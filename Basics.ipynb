{
  "nbformat": 4,
  "nbformat_minor": 0,
  "metadata": {
    "colab": {
      "name": "Basics",
      "provenance": [],
      "collapsed_sections": [],
      "authorship_tag": "ABX9TyPLq9N3gUb2Ta4wYTDlF+M8",
      "include_colab_link": true
    },
    "kernelspec": {
      "name": "python3",
      "display_name": "Python 3"
    }
  },
  "cells": [
    {
      "cell_type": "markdown",
      "metadata": {
        "id": "view-in-github",
        "colab_type": "text"
      },
      "source": [
        "<a href=\"https://colab.research.google.com/github/DarshanSavaliyaOfficial/Deep-Learning/blob/master/Basics.ipynb\" target=\"_parent\"><img src=\"https://colab.research.google.com/assets/colab-badge.svg\" alt=\"Open In Colab\"/></a>"
      ]
    },
    {
      "cell_type": "markdown",
      "metadata": {
        "id": "U4s2f3B5I2b-",
        "colab_type": "text"
      },
      "source": [
        "# This Colab is to learn the basics of PyTorch.\n",
        "\n",
        "Learning from pythonprogramming.net"
      ]
    },
    {
      "cell_type": "markdown",
      "metadata": {
        "id": "51VSfzmzJJex",
        "colab_type": "text"
      },
      "source": [
        "### 1st code shell. \n",
        "Import necessary modules"
      ]
    },
    {
      "cell_type": "code",
      "metadata": {
        "id": "f82TrD7kCS2f",
        "colab_type": "code",
        "colab": {}
      },
      "source": [
        "import torch\n",
        "import torchvision\n",
        "from torchvision import transforms, datasets\n",
        "import matplotlib.pyplot as plt"
      ],
      "execution_count": 24,
      "outputs": []
    },
    {
      "cell_type": "markdown",
      "metadata": {
        "id": "smJrEjPnJR2i",
        "colab_type": "text"
      },
      "source": [
        "### 2nd code shell. \n",
        "Download the training and testing dataset and transform it to tensors."
      ]
    },
    {
      "cell_type": "code",
      "metadata": {
        "id": "qSnS0DGpHwoP",
        "colab_type": "code",
        "colab": {}
      },
      "source": [
        "train = datasets.MNIST('', train = True, download = True, transform = transforms.Compose([transforms.ToTensor()]))\n",
        "test = datasets.MNIST('', train = False, download = True, transform = transforms.Compose([transforms.ToTensor()]))"
      ],
      "execution_count": 25,
      "outputs": []
    },
    {
      "cell_type": "markdown",
      "metadata": {
        "id": "zS4D-jcyJuZ4",
        "colab_type": "text"
      },
      "source": [
        "### 3rd code shell. \n",
        "Shuffle the dataset and divide it into the finite number of batches of 10 data in each."
      ]
    },
    {
      "cell_type": "code",
      "metadata": {
        "id": "GYG0Sz5_I1CG",
        "colab_type": "code",
        "colab": {}
      },
      "source": [
        "trainset = torch.utils.data.DataLoader(train, batch_size = 10, shuffle = True )\n",
        "testset = torch.utils.data.DataLoader(test, batch_size = 20, shuffle = False)\n"
      ],
      "execution_count": 26,
      "outputs": []
    },
    {
      "cell_type": "markdown",
      "metadata": {
        "id": "PajGhRGLMDCx",
        "colab_type": "text"
      },
      "source": [
        "### 4th code shell. \n",
        "Knowing your data"
      ]
    },
    {
      "cell_type": "code",
      "metadata": {
        "id": "B7f6aXhUMYUM",
        "colab_type": "code",
        "colab": {
          "base_uri": "https://localhost:8080/",
          "height": 34
        },
        "outputId": "738e90ef-53c9-4aff-a493-c422615afa5f"
      },
      "source": [
        "for data in trainset:\n",
        "  print(data[1])      # so Data is a batch of 10 different data and \n",
        "  break               # data[0] is the feature and data[1] is the target\n"
      ],
      "execution_count": 27,
      "outputs": [
        {
          "output_type": "stream",
          "text": [
            "tensor([7, 7, 4, 1, 8, 8, 8, 6, 9, 2])\n"
          ],
          "name": "stdout"
        }
      ]
    },
    {
      "cell_type": "markdown",
      "metadata": {
        "id": "6Cw4MrEuNStM",
        "colab_type": "text"
      },
      "source": [
        "### 5th code shell.\n",
        "Printing the features as a plot(as its an image)"
      ]
    },
    {
      "cell_type": "code",
      "metadata": {
        "id": "7hlu3mzYNQxV",
        "colab_type": "code",
        "colab": {
          "base_uri": "https://localhost:8080/",
          "height": 265
        },
        "outputId": "8cedd964-a89a-4ad0-b80b-cbe3960c5625"
      },
      "source": [
        "plt.imshow(data[0][0].view(28,28))\n",
        "plt.show()\n"
      ],
      "execution_count": 28,
      "outputs": [
        {
          "output_type": "display_data",
          "data": {
            "image/png": "[encoded data removed]",
            "text/plain": [
              "<Figure size 432x288 with 1 Axes>"
            ]
          },
          "metadata": {
            "tags": [],
            "needs_background": "light"
          }
        }
      ]
    },
    {
      "cell_type": "markdown",
      "metadata": {
        "id": "vX-XnpKNONtE",
        "colab_type": "text"
      },
      "source": [
        "PyTorch comes with the balanced and scaled datasets but in real life, the neural networks works only on 0-1 or -1 to 1 feature values so, we need to scale our data to train NNs and also we need to balance the dataset.\n",
        "Balancing means the Dataset should contain almost equal number of percentage of examples of the classes in the training stage."
      ]
    },
    {
      "cell_type": "markdown",
      "metadata": {
        "id": "7kS3-OKnPZzH",
        "colab_type": "text"
      },
      "source": [
        "### 6th code shell.\n",
        "Building a Deep Network model. Importing necessary classes from torch library"
      ]
    },
    {
      "cell_type": "code",
      "metadata": {
        "id": "7OGaBEy4ONW-",
        "colab_type": "code",
        "colab": {}
      },
      "source": [
        "import torch.nn as nn\n",
        "import torch.nn.functional as F"
      ],
      "execution_count": 29,
      "outputs": []
    },
    {
      "cell_type": "markdown",
      "metadata": {
        "id": "titLgtSHPucv",
        "colab_type": "text"
      },
      "source": [
        "### 7th code shell. \n",
        "Initializing class for Deep Network inheriting from the nn.Module class.\n",
        "\n",
        "Class initializes the fc(fully connected) layers and then applies ReLu activation function and SoftMax function at the end."
      ]
    },
    {
      "cell_type": "code",
      "metadata": {
        "id": "7QLp1gzWPaJj",
        "colab_type": "code",
        "colab": {
          "base_uri": "https://localhost:8080/",
          "height": 119
        },
        "outputId": "9783e1bc-fa99-47d0-af14-d59aa154dc5f"
      },
      "source": [
        "class Net(nn.Module):\n",
        "  def __init__(self):\n",
        "    super(). __init__()\n",
        "    self.fc1 = nn.Linear(28*28, 64)  # fc layer, with 28x28 input features and 64 output features \n",
        "    self.fc2 = nn.Linear(64,64)      \n",
        "    self.fc3 = nn.Linear(64,64)\n",
        "    self.fc4 = nn.Linear(64,10)\n",
        "\n",
        "  def forward(self, x):\n",
        "    x= F.relu(self.fc1(x))     # Connecting the layers...\n",
        "    x= F.relu(self.fc2(x))     # and finally applying ReLu to the output of the layer\n",
        "    x= F.relu(self.fc3(x))\n",
        "    x= self.fc4(x)\n",
        "    return F.log_softmax(x,dim=1)  # applying softmax to the output...\n",
        "net = Net()     \n",
        "print(net)\n"
      ],
      "execution_count": 51,
      "outputs": [
        {
          "output_type": "stream",
          "text": [
            "Net(\n",
            "  (fc1): Linear(in_features=784, out_features=64, bias=True)\n",
            "  (fc2): Linear(in_features=64, out_features=64, bias=True)\n",
            "  (fc3): Linear(in_features=64, out_features=64, bias=True)\n",
            "  (fc4): Linear(in_features=64, out_features=10, bias=True)\n",
            ")\n"
          ],
          "name": "stdout"
        }
      ]
    },
    {
      "cell_type": "markdown",
      "metadata": {
        "id": "nb61ERRJTjHw",
        "colab_type": "text"
      },
      "source": [
        "### 8th code shell.\n",
        " As we already set up a Deep Network of 4 layers, we need to define the loss function and the optimizer. For that we import a torch class called optim..."
      ]
    },
    {
      "cell_type": "code",
      "metadata": {
        "id": "WqPVMVOoTjZG",
        "colab_type": "code",
        "colab": {}
      },
      "source": [
        "import torch.optim as optim"
      ],
      "execution_count": 52,
      "outputs": []
    },
    {
      "cell_type": "markdown",
      "metadata": {
        "id": "kf93SJhAZHYy",
        "colab_type": "text"
      },
      "source": [
        "### 9th code shell. \n",
        "Cross entropy as a loss function and Adam(Adaptive momentum) for optimization.\n",
        "For one hot vectors, you can use Mean Squared Error.\n",
        "For scalar classification(like ours one), you can use Cross Entropy\n",
        "\n",
        "For optimizer, you can use Adam. There is also a **rectified Adam** in the market.\n",
        "**lr** is the learning Rate. A good value to start with is $10^{-3}$ or 0.001\n",
        "\n",
        "There is this Decaying Lr also available which takes bigger steps intially and then takes smaller steps with time."
      ]
    },
    {
      "cell_type": "code",
      "metadata": {
        "id": "eGKKO5USZHlx",
        "colab_type": "code",
        "colab": {}
      },
      "source": [
        "loss_function = nn.CrossEntropyLoss()\n",
        "optimizer = optim.Adam(net.parameters(), lr = 0.001)"
      ],
      "execution_count": 53,
      "outputs": []
    },
    {
      "cell_type": "markdown",
      "metadata": {
        "id": "NJ_ZggT9c53t",
        "colab_type": "text"
      },
      "source": [
        "### 10th Code shell.\n",
        "\n",
        "Defining Epoch. (1 Epoch = 1 full pass over a dataset).\n",
        "Too few Epoch and Network will not learn accurately.\n",
        "Too Large value of Epoch and your network will over fit the data.\n",
        "\n",
        "Here, we are taking 3 epochs for now."
      ]
    },
    {
      "cell_type": "code",
      "metadata": {
        "id": "X1KU2xPXalqY",
        "colab_type": "code",
        "colab": {
          "base_uri": "https://localhost:8080/",
          "height": 68
        },
        "outputId": "73eb134d-649e-4271-eacd-2a400995a88b"
      },
      "source": [
        "for epoch in range(0,3):\n",
        "  for data in trainset:\n",
        "    X,y = data\n",
        "    net.zero_grad()      # set gradient to zero before loss calculation. Do it after every Epoch.\n",
        "    X = X.view(-1,784)\n",
        "    output = net.forward(X)\n",
        "    loss = F.nll_loss(output, y)      # calcuate loss\n",
        "    loss.backward()                     # apply the loss through the network parameters\n",
        "    optimizer.step()                # Attempt to optimize the network parameters\n",
        "  print(loss)\n",
        "\n"
      ],
      "execution_count": 54,
      "outputs": [
        {
          "output_type": "stream",
          "text": [
            "tensor(0.6688, grad_fn=<NllLossBackward>)\n",
            "tensor(0.0388, grad_fn=<NllLossBackward>)\n",
            "tensor(0.0166, grad_fn=<NllLossBackward>)\n"
          ],
          "name": "stdout"
        }
      ]
    },
    {
      "cell_type": "code",
      "metadata": {
        "id": "3cd3h8EcjMT1",
        "colab_type": "code",
        "colab": {}
      },
      "source": [
        ""
      ],
      "execution_count": null,
      "outputs": []
    }
  ]
}