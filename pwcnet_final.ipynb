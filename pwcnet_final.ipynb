{
  "nbformat": 4,
  "nbformat_minor": 0,
  "metadata": {
    "accelerator": "GPU",
    "colab": {
      "name": "pwcnet",
      "provenance": [],
      "collapsed_sections": [],
      "toc_visible": true,
      "include_colab_link": true
    },
    "kernelspec": {
      "display_name": "Python 3",
      "name": "python3"
    }
  },
  "cells": [
    {
      "cell_type": "markdown",
      "metadata": {
        "id": "view-in-github",
        "colab_type": "text"
      },
      "source": [
        "<a href=\"https://colab.research.google.com/github/ItsMeDarshan/Deep-Learning/blob/master/pwcnet_final.ipynb\" target=\"_parent\"><img src=\"https://colab.research.google.com/assets/colab-badge.svg\" alt=\"Open In Colab\"/></a>"
      ]
    },
    {
      "cell_type": "markdown",
      "metadata": {
        "id": "ayHF7apPBmFv"
      },
      "source": [
        "##PWCNET"
      ]
    },
    {
      "cell_type": "markdown",
      "metadata": {
        "id": "K2EWIyyX5skK"
      },
      "source": [
        "####Download datasets to the virtual machine"
      ]
    },
    {
      "cell_type": "code",
      "metadata": {
        "id": "lk_3a4tti2zR"
      },
      "source": [
        "%%capture\r\n",
        "!wget https://s3.eu-central-1.amazonaws.com/avg-kitti/data_scene_flow.zip"
      ],
      "execution_count": null,
      "outputs": []
    },
    {
      "cell_type": "code",
      "metadata": {
        "id": "LCJVvCV1QShv"
      },
      "source": [
        "%%capture\r\n",
        "!wget https://s3.eu-central-1.amazonaws.com/avg-kitti/data_odometry_gray.zip"
      ],
      "execution_count": null,
      "outputs": []
    },
    {
      "cell_type": "markdown",
      "metadata": {
        "id": "5BPhCJsv55N5"
      },
      "source": [
        "####Unzip data and store at a particular place(inside the virtual machines's provided memory)"
      ]
    },
    {
      "cell_type": "code",
      "metadata": {
        "colab": {
          "base_uri": "https://localhost:8080/"
        },
        "id": "CkOYw69RRQ7z",
        "outputId": "41bbd053-9a1b-4425-c31a-287e15234201"
      },
      "source": [
        "\r\n",
        "!unzip data_odometry_gray.zip -d \"/content/Kitti_odo\""
      ],
      "execution_count": null,
      "outputs": [
        {
          "output_type": "stream",
          "text": [
            "Archive:  data_odometry_gray.zip\n",
            "  End-of-central-directory signature not found.  Either this file is not\n",
            "  a zipfile, or it constitutes one disk of a multi-part archive.  In the\n",
            "  latter case the central directory and zipfile comment will be found on\n",
            "  the last disk(s) of this archive.\n",
            "unzip:  cannot find zipfile directory in one of data_odometry_gray.zip or\n",
            "        data_odometry_gray.zip.zip, and cannot find data_odometry_gray.zip.ZIP, period.\n"
          ],
          "name": "stdout"
        }
      ]
    },
    {
      "cell_type": "code",
      "metadata": {
        "id": "Xm4Js4VCjVc_"
      },
      "source": [
        "%%capture\r\n",
        "!unzip data_scene_flow.zip -d \"/content/Kitti2015\""
      ],
      "execution_count": null,
      "outputs": []
    },
    {
      "cell_type": "code",
      "metadata": {
        "id": "g1mFyWQg_P9-"
      },
      "source": [
        "%%capture\r\n",
        "#!wget http://files.is.tue.mpg.de/sintel/MPI-Sintel-complete.zip\r\n",
        "!unzip \"/content/pwcnet/content/pwcnet/MPI-Sintel-complete.zip\" -d \"/content/Sintel\""
      ],
      "execution_count": null,
      "outputs": []
    },
    {
      "cell_type": "markdown",
      "metadata": {
        "id": "To1Aq6-q6QcI"
      },
      "source": [
        "####Clone the PWCNET Repo(again inside the virtual machines's provided memory)"
      ]
    },
    {
      "cell_type": "code",
      "metadata": {
        "id": "HfHPw8nXju7V"
      },
      "source": [
        "%%capture\n",
        "%cd /content\n",
        "!rm -r pwcnet\n",
        "!git clone https://github.com/daigo0927/pwcnet\n",
        "%cd pwcnet\n",
        "#!git checkout tf2\n",
        "!git submodule init\n",
        "!git submodule update"
      ],
      "execution_count": null,
      "outputs": []
    },
    {
      "cell_type": "markdown",
      "metadata": {
        "id": "3SleRQ9l6gBS"
      },
      "source": [
        "####Print current working directory and list the sub directories and files"
      ]
    },
    {
      "cell_type": "code",
      "metadata": {
        "colab": {
          "base_uri": "https://localhost:8080/"
        },
        "id": "iiZQCrEik0ia",
        "outputId": "74291813-6821-4f66-ebdc-3ff09e1d6ad3"
      },
      "source": [
        "#!pip list | grep tensorflow\n",
        "!echo $PWD\n",
        "!ls"
      ],
      "execution_count": null,
      "outputs": [
        {
          "output_type": "stream",
          "text": [
            "/content/pwcnet\n",
            "datahandler\tlosses.py\t\t   modules.py\t       test.py\n",
            "flow_color.pdf\tmodel_1000epochs\t   README.md\t       train.py\n",
            "flow_utils.py\tmodel_100epochs_ft_Chairs  requirements.txt    utils.py\n",
            "__init__.py\tmodel_250epochs_ft_Final   sample\n",
            "LICENSE\t\tmodel.py\t\t   test_continuous.py\n"
          ],
          "name": "stdout"
        }
      ]
    },
    {
      "cell_type": "markdown",
      "metadata": {
        "id": "TlttjKzd6vuI"
      },
      "source": [
        "####check if there is GPU available, if available then print its name and device number"
      ]
    },
    {
      "cell_type": "code",
      "metadata": {
        "colab": {
          "base_uri": "https://localhost:8080/"
        },
        "id": "Qqcowj9HEHq1",
        "outputId": "56d45fcc-ea4c-4b7c-fd55-e4e8403cec76"
      },
      "source": [
        "# edit *.py files to add line for GPU to use.\r\n",
        "import tensorflow as tf\r\n",
        "import os\r\n",
        "device_name = tf.test.gpu_device_name()\r\n",
        "print(device_name)\r\n",
        "if device_name != '/device:GPU:0':\r\n",
        "  os.system('sed -i \"s/os.environ\\\\[\\'CUDA_VISIBLE_DEVICES\\'\\\\] = input/os.environ[\\'CUDA_VISIBLE_DEVICES\\'] = \\'-1\\' # input/g\" /content/pwcnet/*.py')\r\n",
        "  raise SystemError('GPU device not found')\r\n",
        "else:\r\n",
        "  os.system('sed -i \"s/os.environ\\\\[\\'CUDA_VISIBLE_DEVICES\\'\\\\] = input/os.environ[\\'CUDA_VISIBLE_DEVICES\\'] = \\'0\\' # input/g\" /content/pwcnet/*.py')\r\n",
        "print('Found GPU at: {}'.format(device_name))"
      ],
      "execution_count": null,
      "outputs": [
        {
          "output_type": "stream",
          "text": [
            "/device:GPU:0\n",
            "Found GPU at: /device:GPU:0\n"
          ],
          "name": "stdout"
        }
      ]
    },
    {
      "cell_type": "markdown",
      "metadata": {
        "id": "lK5-avLx696i"
      },
      "source": [
        "#### command for adding tensorflow 1 compatibility as current google colab VM has tensorflow 2 so some commands won't work\r\n",
        "\r\n",
        "ayushi, you solved this error of **\"can't read ./*.py: No such file or directory\"**. Can you resolve it again? It seems the issue came again or the new command was not stored correctly"
      ]
    },
    {
      "cell_type": "code",
      "metadata": {
        "id": "WtjYEvJhkN9O",
        "colab": {
          "base_uri": "https://localhost:8080/"
        },
        "outputId": "3c91b694-cf76-48b8-a1b5-6c4e3d9991a0"
      },
      "source": [
        "!sed -i 's/^\\s*import tensorflow as.*/import tensorflow.compat.v1 as tf\\ntf.disable_v2_behavior()/g' ./*.py"
      ],
      "execution_count": null,
      "outputs": [
        {
          "output_type": "stream",
          "text": [
            "sed: can't read ./*.py: No such file or directory\n"
          ],
          "name": "stdout"
        }
      ]
    },
    {
      "cell_type": "code",
      "metadata": {
        "id": "_k6lnOKhqAx9"
      },
      "source": [
        "#!sed -i 's/from\\smodules/from pwcnet.modules/g' pwcnet/*.py | grep modules"
      ],
      "execution_count": null,
      "outputs": []
    },
    {
      "cell_type": "markdown",
      "metadata": {
        "id": "BVrOSNer7CNu"
      },
      "source": [
        "####command for training PWCNET on KITTI dataset. \r\n",
        "```please note that the crop shape should be the multiple of 64```"
      ]
    },
    {
      "cell_type": "code",
      "metadata": {
        "id": "x4ZtsD54j2oR"
      },
      "source": [
        "\n",
        "#[384, 448]\n",
        "\n",
        "# Added --crop_shape 320 1216 - Avinash\n",
        "!python train.py --dataset KITTI --dataset_dir /content/Kitti2015 --crop_shape 320 1216"
      ],
      "execution_count": null,
      "outputs": []
    },
    {
      "cell_type": "code",
      "metadata": {
        "id": "_cy2MDOaSvoi"
      },
      "source": [
        "#!wget https://drive.google.com/drive/folders/1q3pKFc3hThZ4mR4mHV1_sxqX09GeoF7W?usp=sharing\r\n",
        "!unzip \"/content/1q3pKFc3hThZ4mR4mHV1_sxqX09GeoF7W?usp=sharing\" -d \"/content/kitti_odometry\""
      ],
      "execution_count": null,
      "outputs": []
    },
    {
      "cell_type": "markdown",
      "metadata": {
        "id": "d5rZrtgl8Wy7"
      },
      "source": [
        "####Mounting Google Drive on the VM(current session)\r\n",
        "```Please note that if your session expired or gets closed then the drive will be automatically unmounted from the VM```"
      ]
    },
    {
      "cell_type": "code",
      "metadata": {
        "id": "VrB8j-qMXkl5",
        "colab": {
          "base_uri": "https://localhost:8080/"
        },
        "outputId": "a234932e-3abd-471a-8d44-ae907bcb3a9f"
      },
      "source": [
        "from google.colab import drive\n",
        "drive.mount('/content/drive')"
      ],
      "execution_count": null,
      "outputs": [
        {
          "output_type": "stream",
          "text": [
            "Mounted at /content/drive\n"
          ],
          "name": "stdout"
        }
      ]
    },
    {
      "cell_type": "markdown",
      "metadata": {
        "id": "osjjO1F68v-T"
      },
      "source": [
        "####remove a folder"
      ]
    },
    {
      "cell_type": "code",
      "metadata": {
        "id": "_5oGgNUdSFzg"
      },
      "source": [
        "!rm -rf \"/content/content/\""
      ],
      "execution_count": null,
      "outputs": []
    },
    {
      "cell_type": "markdown",
      "metadata": {
        "id": "TzMPRcSI84Lb"
      },
      "source": [
        "####Unzip command"
      ]
    },
    {
      "cell_type": "code",
      "metadata": {
        "id": "Ic9vu1hwHxaS"
      },
      "source": [
        "!unzip \"/content/drive/MyDrive/VO/pwcnet_final.zip\" "
      ],
      "execution_count": null,
      "outputs": []
    },
    {
      "cell_type": "markdown",
      "metadata": {
        "id": "iDPmJqJZ9Auo"
      },
      "source": [
        "####Repetitively moving a directory from one place to another"
      ]
    },
    {
      "cell_type": "code",
      "metadata": {
        "id": "Ob7UaKqp3Vnk"
      },
      "source": [
        "#!mkdir Pwcnet\r\n",
        "!mv \"/content/content/content/Pwcnet_final/\" \"/content/Pwcnet_final\"\r\n"
      ],
      "execution_count": null,
      "outputs": []
    },
    {
      "cell_type": "markdown",
      "metadata": {
        "id": "1rlmztIK9Wkg"
      },
      "source": [
        "####Testing the trained PWCNET(continuously iterating over the set of images) by taking stored model weights(three files are stored by PWCNET after 1 successful epoch training"
      ]
    },
    {
      "cell_type": "code",
      "metadata": {
        "id": "qWxht7tzUALD"
      },
      "source": [
        "# %cd pwcnet\r\n",
        "# figures will be in test_figure folder\r\n",
        "!python test_continuous.py -i /content/Kitti2015/testing/image_2/* -r /content/drive/MyDrive/VO/colab_pwcnet/model/model_100.ckpt"
      ],
      "execution_count": null,
      "outputs": []
    },
    {
      "cell_type": "markdown",
      "metadata": {
        "id": "ZRxZisRyAcAZ"
      },
      "source": [
        "####Testing the trained PWCNET(takes only two images) by taking stored model weights(three files are stored by PWCNET after 1 successful epoch training"
      ]
    },
    {
      "cell_type": "code",
      "metadata": {
        "id": "QHWCtY1NQ-4l"
      },
      "source": [
        "\r\n",
        "!python /content/drive/MyDrive/VO/pwcnetzip/pwcnet_unzipped/content/pwcnet/test_local_file.py --input_images /content/drive/MyDrive/VO/kitti_odo/Kitti_odometry_Dataset/00/image_0/000000.png /content/drive/MyDrive/VO/kitti_odo/Kitti_odometry_Dataset/00/image_0/000001.png --resume /content/drive/MyDrive/VO/colab_pwcnet/model/model_100.ckpt"
      ],
      "execution_count": null,
      "outputs": []
    },
    {
      "cell_type": "markdown",
      "metadata": {
        "id": "y1EuDi3Yt69w"
      },
      "source": [
        "####Testing module"
      ]
    },
    {
      "cell_type": "code",
      "metadata": {
        "id": "bMrC3cqYt6Ce"
      },
      "source": [
        "import test_local_file1 as tlf\r\n",
        "from tensorflow.python.framework import ops\r\n",
        "ops.reset_default_graph()\r\n",
        "import cv2\r\n",
        "args = {}\r\n",
        "args [\"input_images\"] = ['/content/drive/MyDrive/VO/kitti_odo/Kitti_odometry_Dataset/00/image_0/000000.png', '/content/drive/MyDrive/VO/kitti_odo/Kitti_odometry_Dataset/00/image_0/000001.png']\r\n",
        "args[\"resume\"] = '/content/drive/MyDrive/VO/colab_pwcnet/model/model_100.ckpt'\r\n",
        "args[\"time\"] = False\r\n",
        "\r\n",
        "flow = tlf.test_with_files(args)\r\n",
        "print(flow)"
      ],
      "execution_count": null,
      "outputs": []
    },
    {
      "cell_type": "markdown",
      "metadata": {
        "id": "8KXmjf3ZAmns"
      },
      "source": [
        "####Using CV2 library to get shape of an image"
      ]
    },
    {
      "cell_type": "code",
      "metadata": {
        "id": "glfyTtg5PCNj"
      },
      "source": [
        "import cv2\r\n",
        "img = cv2.imread(\"/content/test_figure/test_alley_1_frame_0004.png\")\r\n",
        "print(img.shape)\r\n",
        "print(img)\r\n",
        "#(438, 1170, 3)"
      ],
      "execution_count": null,
      "outputs": []
    },
    {
      "cell_type": "markdown",
      "metadata": {
        "id": "ivqPxIcvBdSt"
      },
      "source": [
        "####Zip a folder"
      ]
    },
    {
      "cell_type": "code",
      "metadata": {
        "id": "Aee6ragaAEt1",
        "colab": {
          "base_uri": "https://localhost:8080/"
        },
        "outputId": "54cb8c9b-0a28-4e93-c2f7-8be541295307"
      },
      "source": [
        "!zip -r \"/content/drive/MyDrive/VO/R_T.zip\"  \"/content/R_T\""
      ],
      "execution_count": null,
      "outputs": [
        {
          "output_type": "stream",
          "text": [
            "  adding: content/R_T/ (stored 0%)\n",
            "  adding: content/R_T/trans_files/ (stored 0%)\n",
            "  adding: content/R_T/trans_files/05T.csv (deflated 66%)\n",
            "  adding: content/R_T/trans_files/00T.csv (deflated 67%)\n",
            "  adding: content/R_T/trans_files/03T.csv (deflated 67%)\n",
            "  adding: content/R_T/trans_files/09T.csv (deflated 66%)\n",
            "  adding: content/R_T/trans_files/02T.csv (deflated 68%)\n",
            "  adding: content/R_T/trans_files/06T.csv (deflated 65%)\n",
            "  adding: content/R_T/trans_files/01T.csv (deflated 66%)\n",
            "  adding: content/R_T/trans_files/08T.csv (deflated 68%)\n",
            "  adding: content/R_T/trans_files/10T.csv (deflated 66%)\n",
            "  adding: content/R_T/trans_files/04T.csv (deflated 65%)\n",
            "  adding: content/R_T/trans_files/07T.csv (deflated 65%)\n",
            "  adding: content/R_T/rot_files/ (stored 0%)\n",
            "  adding: content/R_T/rot_files/03R.csv (deflated 58%)\n",
            "  adding: content/R_T/rot_files/04R.csv (deflated 58%)\n",
            "  adding: content/R_T/rot_files/06R.csv (deflated 59%)\n",
            "  adding: content/R_T/rot_files/02R.csv (deflated 59%)\n",
            "  adding: content/R_T/rot_files/07R.csv (deflated 59%)\n",
            "  adding: content/R_T/rot_files/01R.csv (deflated 59%)\n",
            "  adding: content/R_T/rot_files/09R.csv (deflated 59%)\n",
            "  adding: content/R_T/rot_files/00R.csv (deflated 59%)\n",
            "  adding: content/R_T/rot_files/05R.csv (deflated 59%)\n",
            "  adding: content/R_T/rot_files/10R.csv (deflated 59%)\n",
            "  adding: content/R_T/rot_files/08R.csv (deflated 59%)\n"
          ],
          "name": "stdout"
        }
      ]
    },
    {
      "cell_type": "markdown",
      "metadata": {
        "id": "G59UAgd3ivPV"
      },
      "source": [
        "#ResNet"
      ]
    },
    {
      "cell_type": "code",
      "metadata": {
        "colab": {
          "base_uri": "https://localhost:8080/"
        },
        "id": "Yv2nRo70OUTJ",
        "outputId": "4ce6a885-63f3-4c4d-9aee-8ee36d5fc87b"
      },
      "source": [
        "!unzip  \"/content/drive/MyDrive/Kitti_odometry_Dataset/data_odometry_poses.zip\" -d \"/content/data_odometry_poses_resnet\""
      ],
      "execution_count": null,
      "outputs": [
        {
          "output_type": "stream",
          "text": [
            "unzip:  cannot find or open /content/drive/MyDrive/Kitti_odometry_Dataset/data_odometry_poses.zip, /content/drive/MyDrive/Kitti_odometry_Dataset/data_odometry_poses.zip.zip or /content/drive/MyDrive/Kitti_odometry_Dataset/data_odometry_poses.zip.ZIP.\n"
          ],
          "name": "stdout"
        }
      ]
    },
    {
      "cell_type": "code",
      "metadata": {
        "id": "12PlWOz8OkCB"
      },
      "source": [
        "!unzip \"/content/drive/MyDrive/Kitti_odometry_Dataset/data_odometry_calib.zip\" -d \"/content/data_odometry_calib_resnet\""
      ],
      "execution_count": null,
      "outputs": []
    },
    {
      "cell_type": "markdown",
      "metadata": {
        "id": "tyQZnUwsBws5"
      },
      "source": [
        "####Import necessary modules"
      ]
    },
    {
      "cell_type": "code",
      "metadata": {
        "id": "H5WjOr9tVbmz"
      },
      "source": [
        "import tensorflow as tf\r\n",
        "import numpy as np\r\n",
        "import matplotlib.pyplot as plt"
      ],
      "execution_count": null,
      "outputs": []
    },
    {
      "cell_type": "markdown",
      "metadata": {
        "id": "p5avJOKMB1VQ"
      },
      "source": [
        "####Get pretrained ResNet50 model with weights trained using ImageNet dataset without including the top(classification) layer"
      ]
    },
    {
      "cell_type": "code",
      "metadata": {
        "id": "nEyjYqABi2PW",
        "colab": {
          "base_uri": "https://localhost:8080/"
        },
        "outputId": "92cd48f4-c13f-4d8d-e646-75f171f81a36"
      },
      "source": [
        "base_model = tf.keras.applications.ResNet50(include_top=False, weights='imagenet', input_shape=(438, 1170, 3))\r\n"
      ],
      "execution_count": null,
      "outputs": [
        {
          "output_type": "stream",
          "text": [
            "Downloading data from https://storage.googleapis.com/tensorflow/keras-applications/resnet/resnet50_weights_tf_dim_ordering_tf_kernels_notop.h5\n",
            "94773248/94765736 [==============================] - 1s 0us/step\n"
          ],
          "name": "stdout"
        }
      ]
    },
    {
      "cell_type": "markdown",
      "metadata": {
        "id": "RIqKMZiICDBt"
      },
      "source": [
        "####Print the ResNet50 Architecture"
      ]
    },
    {
      "cell_type": "code",
      "metadata": {
        "id": "bEOMSCAFi3iR"
      },
      "source": [
        "base_model.summary()\r\n"
      ],
      "execution_count": null,
      "outputs": []
    },
    {
      "cell_type": "markdown",
      "metadata": {
        "id": "W2FHSwdsCN4J"
      },
      "source": [
        "####Define the top NN layers for R and T matrices(total 6 final values)"
      ]
    },
    {
      "cell_type": "code",
      "metadata": {
        "id": "fELqXH8NjB6a"
      },
      "source": [
        "\r\n",
        "\r\n",
        "Rot = tf.keras.models.Sequential()\r\n",
        "Rot.add(tf.keras.Input(shape=(2072,))) #change the input shape based on the flatten layer \r\n",
        "Rot.add(tf.keras.layers.Dense(128, activation='relu'))\r\n",
        "Rot.add(tf.keras.layers.Dense(32, activation='relu'))\r\n",
        "Rot.add(tf.keras.layers.Dense(9))\r\n",
        "\r\n",
        "Trans = tf.keras.models.Sequential()\r\n",
        "Trans.add(tf.keras.Input(shape=(2072,)))\r\n",
        "Trans.add(tf.keras.layers.Dense(128, activation='relu'))\r\n",
        "Trans.add(tf.keras.layers.Dense(32, activation='relu'))\r\n",
        "Trans.add(tf.keras.layers.Dense(3))\r\n"
      ],
      "execution_count": null,
      "outputs": []
    },
    {
      "cell_type": "markdown",
      "metadata": {
        "id": "E53RjTm-CkWl"
      },
      "source": [
        "####Add all these above defined layers to the pretrained model and construct the architecture again. Concatenate both 9,3 values in the final layer and give the output"
      ]
    },
    {
      "cell_type": "code",
      "metadata": {
        "id": "MmdGbJyFjEip"
      },
      "source": [
        "#(320,1216,3)\r\n",
        "inputs = tf.keras.Input(shape=(438, 1170, 3))\r\n",
        "x = base_model(inputs)\r\n",
        "x = tf.keras.layers.Conv2D(4, kernel_size=(1, 1), strides=(1, 1), padding='valid', kernel_regularizer=tf.keras.regularizers.l2(0.001))(x)\r\n",
        "x = tf.keras.layers.BatchNormalization()(x)\r\n",
        "x = tf.keras.layers.Activation(tf.keras.activations.relu)(x)\r\n",
        "flatten_layer = tf.keras.layers.Flatten()(x)\r\n",
        "rot_outputs = Rot(flatten_layer)\r\n",
        "trans_outputs = Trans(flatten_layer)\r\n",
        "concatted = tf.keras.layers.Concatenate()([rot_outputs, trans_outputs])\r\n"
      ],
      "execution_count": null,
      "outputs": []
    },
    {
      "cell_type": "markdown",
      "metadata": {
        "id": "ZmuaDpQbDttp"
      },
      "source": [
        "####Define the final model"
      ]
    },
    {
      "cell_type": "code",
      "metadata": {
        "id": "6pL0oSfnjGq2"
      },
      "source": [
        "ResNet_model = tf.keras.Model(inputs, concatted)"
      ],
      "execution_count": null,
      "outputs": []
    },
    {
      "cell_type": "markdown",
      "metadata": {
        "id": "k5iO_I0_D4H_"
      },
      "source": [
        "####Recheck the model(by printing summary)"
      ]
    },
    {
      "cell_type": "code",
      "metadata": {
        "id": "WCUbrg76jImj"
      },
      "source": [
        "ResNet_model.summary()"
      ],
      "execution_count": null,
      "outputs": []
    },
    {
      "cell_type": "markdown",
      "metadata": {
        "id": "ZoNz0gFYpnqU"
      },
      "source": [
        "####Uploading rot and trans files"
      ]
    },
    {
      "cell_type": "code",
      "metadata": {
        "id": "1rFXD5ZppGX9"
      },
      "source": [
        "!mkdir \"/content/rot_files\"\r\n",
        "!mkdir \"/content/trans_files\""
      ],
      "execution_count": null,
      "outputs": []
    },
    {
      "cell_type": "code",
      "metadata": {
        "colab": {
          "base_uri": "https://localhost:8080/"
        },
        "id": "3qAngDFFI4bL",
        "outputId": "7dc84f33-1bea-473a-b003-38a3e99d1a20"
      },
      "source": [
        "#rough\r\n",
        "train = [\"00\",\"01\",\"03\",\"04\"]\r\n",
        "valid = [\"02\",\"05\"]\r\n",
        "path = \"/content/drive/MyDrive/VO/kitti_odo/Kitti_odometry_Dataset/\"\r\n",
        "\r\n",
        "full_path = list(path + l for l in (train))\r\n",
        "x_train = list(path_i for path_i in (full_path))\r\n",
        "y_train = \r\n",
        " "
      ],
      "execution_count": null,
      "outputs": [
        {
          "output_type": "stream",
          "text": [
            "['/content/drive/MyDrive/VO/kitti_odo/Kitti_odometry_Dataset/00', '/content/drive/MyDrive/VO/kitti_odo/Kitti_odometry_Dataset/01', '/content/drive/MyDrive/VO/kitti_odo/Kitti_odometry_Dataset/03', '/content/drive/MyDrive/VO/kitti_odo/Kitti_odometry_Dataset/04']\n"
          ],
          "name": "stdout"
        }
      ]
    },
    {
      "cell_type": "code",
      "metadata": {
        "id": "sH3hmd_O2LI9"
      },
      "source": [
        "#!mkdir \"/content/R_T\"\r\n",
        "!mv \"/content/rot_files\" \"/content/trans_files\" \"/content/R_T\""
      ],
      "execution_count": null,
      "outputs": []
    },
    {
      "cell_type": "code",
      "metadata": {
        "colab": {
          "base_uri": "https://localhost:8080/"
        },
        "id": "8fiumYzP6Akx",
        "outputId": "b61bb46f-5c53-41c7-f1fc-6163885cc7eb"
      },
      "source": [
        "%cd /content/Pwcnet_final/"
      ],
      "execution_count": null,
      "outputs": [
        {
          "output_type": "stream",
          "text": [
            "/content/Pwcnet_final\n"
          ],
          "name": "stdout"
        }
      ]
    },
    {
      "cell_type": "code",
      "metadata": {
        "id": "KN3kvRGg84k3"
      },
      "source": [
        "import test_local_file1 as tlf\r\n",
        "from tensorflow.python.framework import ops\r\n",
        "ops.reset_default_graph()\r\n",
        "import cv2\r\n",
        "args = {}\r\n",
        "args [\"input_images\"] = ['/content/drive/MyDrive/VO/kitti_odo/Kitti_odometry_Dataset/00/image_0/000000.png', '/content/drive/MyDrive/VO/kitti_odo/Kitti_odometry_Dataset/00/image_0/000001.png']\r\n",
        "args[\"resume\"] = '/content/drive/MyDrive/VO/colab_pwcnet/model/model_100.ckpt'\r\n",
        "args[\"time\"] = False\r\n",
        "\r\n",
        "flow = tlf.test_with_files(args)\r\n",
        "print(flow)"
      ],
      "execution_count": null,
      "outputs": []
    },
    {
      "cell_type": "code",
      "metadata": {
        "colab": {
          "base_uri": "https://localhost:8080/",
          "height": 352
        },
        "id": "ATbR6P4ZIt2N",
        "outputId": "86efec4e-5eee-4f39-ea6a-02bc58a8a6b0"
      },
      "source": [
        "import pandas as pd\r\n",
        "poses = []\r\n",
        "output = pd.merge(pd.read_csv('/content/R_T/rot_files/00R.csv'),pd.read_csv('/content/R_T/trans_files/00T.csv'),how = 'outer')\r\n",
        "print(output)"
      ],
      "execution_count": null,
      "outputs": [
        {
          "output_type": "error",
          "ename": "MergeError",
          "evalue": "ignored",
          "traceback": [
            "\u001b[0;31m---------------------------------------------------------------------------\u001b[0m",
            "\u001b[0;31mMergeError\u001b[0m                                Traceback (most recent call last)",
            "\u001b[0;32m<ipython-input-32-990639d52c1a>\u001b[0m in \u001b[0;36m<module>\u001b[0;34m()\u001b[0m\n\u001b[1;32m      1\u001b[0m \u001b[0;32mimport\u001b[0m \u001b[0mpandas\u001b[0m \u001b[0;32mas\u001b[0m \u001b[0mpd\u001b[0m\u001b[0;34m\u001b[0m\u001b[0;34m\u001b[0m\u001b[0m\n\u001b[0;32m----> 2\u001b[0;31m \u001b[0moutput\u001b[0m \u001b[0;34m=\u001b[0m \u001b[0mpd\u001b[0m\u001b[0;34m.\u001b[0m\u001b[0mmerge\u001b[0m\u001b[0;34m(\u001b[0m\u001b[0mpd\u001b[0m\u001b[0;34m.\u001b[0m\u001b[0mread_csv\u001b[0m\u001b[0;34m(\u001b[0m\u001b[0;34m'/content/R_T/rot_files/00R.csv'\u001b[0m\u001b[0;34m)\u001b[0m\u001b[0;34m,\u001b[0m\u001b[0mpd\u001b[0m\u001b[0;34m.\u001b[0m\u001b[0mread_csv\u001b[0m\u001b[0;34m(\u001b[0m\u001b[0;34m'/content/R_T/trans_files/00T.csv'\u001b[0m\u001b[0;34m)\u001b[0m\u001b[0;34m,\u001b[0m\u001b[0mhow\u001b[0m \u001b[0;34m=\u001b[0m \u001b[0;34m'outer'\u001b[0m\u001b[0;34m)\u001b[0m\u001b[0;34m\u001b[0m\u001b[0;34m\u001b[0m\u001b[0m\n\u001b[0m\u001b[1;32m      3\u001b[0m \u001b[0mprint\u001b[0m\u001b[0;34m(\u001b[0m\u001b[0moutput\u001b[0m\u001b[0;34m)\u001b[0m\u001b[0;34m\u001b[0m\u001b[0;34m\u001b[0m\u001b[0m\n",
            "\u001b[0;32m/usr/local/lib/python3.7/dist-packages/pandas/core/reshape/merge.py\u001b[0m in \u001b[0;36mmerge\u001b[0;34m(left, right, how, on, left_on, right_on, left_index, right_index, sort, suffixes, copy, indicator, validate)\u001b[0m\n\u001b[1;32m     85\u001b[0m         \u001b[0mcopy\u001b[0m\u001b[0;34m=\u001b[0m\u001b[0mcopy\u001b[0m\u001b[0;34m,\u001b[0m\u001b[0;34m\u001b[0m\u001b[0;34m\u001b[0m\u001b[0m\n\u001b[1;32m     86\u001b[0m         \u001b[0mindicator\u001b[0m\u001b[0;34m=\u001b[0m\u001b[0mindicator\u001b[0m\u001b[0;34m,\u001b[0m\u001b[0;34m\u001b[0m\u001b[0;34m\u001b[0m\u001b[0m\n\u001b[0;32m---> 87\u001b[0;31m         \u001b[0mvalidate\u001b[0m\u001b[0;34m=\u001b[0m\u001b[0mvalidate\u001b[0m\u001b[0;34m,\u001b[0m\u001b[0;34m\u001b[0m\u001b[0;34m\u001b[0m\u001b[0m\n\u001b[0m\u001b[1;32m     88\u001b[0m     )\n\u001b[1;32m     89\u001b[0m     \u001b[0;32mreturn\u001b[0m \u001b[0mop\u001b[0m\u001b[0;34m.\u001b[0m\u001b[0mget_result\u001b[0m\u001b[0;34m(\u001b[0m\u001b[0;34m)\u001b[0m\u001b[0;34m\u001b[0m\u001b[0;34m\u001b[0m\u001b[0m\n",
            "\u001b[0;32m/usr/local/lib/python3.7/dist-packages/pandas/core/reshape/merge.py\u001b[0m in \u001b[0;36m__init__\u001b[0;34m(self, left, right, how, on, left_on, right_on, axis, left_index, right_index, sort, suffixes, copy, indicator, validate)\u001b[0m\n\u001b[1;32m    643\u001b[0m             \u001b[0mwarnings\u001b[0m\u001b[0;34m.\u001b[0m\u001b[0mwarn\u001b[0m\u001b[0;34m(\u001b[0m\u001b[0mmsg\u001b[0m\u001b[0;34m,\u001b[0m \u001b[0mUserWarning\u001b[0m\u001b[0;34m)\u001b[0m\u001b[0;34m\u001b[0m\u001b[0;34m\u001b[0m\u001b[0m\n\u001b[1;32m    644\u001b[0m \u001b[0;34m\u001b[0m\u001b[0m\n\u001b[0;32m--> 645\u001b[0;31m         \u001b[0mself\u001b[0m\u001b[0;34m.\u001b[0m\u001b[0m_validate_specification\u001b[0m\u001b[0;34m(\u001b[0m\u001b[0;34m)\u001b[0m\u001b[0;34m\u001b[0m\u001b[0;34m\u001b[0m\u001b[0m\n\u001b[0m\u001b[1;32m    646\u001b[0m \u001b[0;34m\u001b[0m\u001b[0m\n\u001b[1;32m    647\u001b[0m         \u001b[0;31m# note this function has side effects\u001b[0m\u001b[0;34m\u001b[0m\u001b[0;34m\u001b[0m\u001b[0;34m\u001b[0m\u001b[0m\n",
            "\u001b[0;32m/usr/local/lib/python3.7/dist-packages/pandas/core/reshape/merge.py\u001b[0m in \u001b[0;36m_validate_specification\u001b[0;34m(self)\u001b[0m\n\u001b[1;32m   1215\u001b[0m                 \u001b[0;32mif\u001b[0m \u001b[0mlen\u001b[0m\u001b[0;34m(\u001b[0m\u001b[0mcommon_cols\u001b[0m\u001b[0;34m)\u001b[0m \u001b[0;34m==\u001b[0m \u001b[0;36m0\u001b[0m\u001b[0;34m:\u001b[0m\u001b[0;34m\u001b[0m\u001b[0;34m\u001b[0m\u001b[0m\n\u001b[1;32m   1216\u001b[0m                     raise MergeError(\n\u001b[0;32m-> 1217\u001b[0;31m                         \u001b[0;34m\"No common columns to perform merge on. \"\u001b[0m\u001b[0;34m\u001b[0m\u001b[0;34m\u001b[0m\u001b[0m\n\u001b[0m\u001b[1;32m   1218\u001b[0m                         \u001b[0;34mf\"Merge options: left_on={self.left_on}, \"\u001b[0m\u001b[0;34m\u001b[0m\u001b[0;34m\u001b[0m\u001b[0m\n\u001b[1;32m   1219\u001b[0m                         \u001b[0;34mf\"right_on={self.right_on}, \"\u001b[0m\u001b[0;34m\u001b[0m\u001b[0;34m\u001b[0m\u001b[0m\n",
            "\u001b[0;31mMergeError\u001b[0m: No common columns to perform merge on. Merge options: left_on=None, right_on=None, left_index=False, right_index=False"
          ]
        }
      ]
    },
    {
      "cell_type": "code",
      "metadata": {
        "colab": {
          "base_uri": "https://localhost:8080/"
        },
        "id": "k2TCo6xqywYj",
        "outputId": "44a17b3a-4c51-4387-98c4-937291047f87"
      },
      "source": [
        "import os\r\n",
        "import pandas\r\n",
        "import test_module as pwctest\r\n",
        "path = \"/content/drive/MyDrive/VO/kitti_odo/Kitti_odometry_Dataset/\"\r\n",
        "R_Tpath = {\"rot\":\"/content/R_T/rot_files\",\r\n",
        "           \"trans\" : \"/content/R_T/trans_files\"\r\n",
        "}\r\n",
        "\r\n",
        "args = {}\r\n",
        "#args [\"input_images\"] = path\r\n",
        "args[\"resume\"] = '/content/drive/MyDrive/VO/colab_pwcnet/model/model_100.ckpt'\r\n",
        "args[\"time\"] = False\r\n",
        "\r\n",
        "for i in os.listdir(path):\r\n",
        "  if i in [\"00\",\"01\",\"03\",\"04\"]:\r\n",
        "    current_path = os.path.join(path,i,'images_0')\r\n",
        "    #\"/content/drive/MyDrive/VO/kitti_odo/Kitti_odometry_Dataset/00\"\r\n",
        "    image_pairs = zip(current_path[:-1], current_path[1:])\r\n",
        "    for img1_path,img2_path in tqdm(image_pairs, desc = \"Processing\"):\r\n",
        "      args[\"input_images\"] = [img1_path, img2_path]\r\n",
        "      x_train = pwctest.test_with_files(args)\r\n",
        "    \r\n",
        "    '''join(for one row --->columns of --->R_T[rot]+R_T[trans])'''\r\n",
        "    rot_path_full = R_Tpath[\"rot\"] + i +\"R\"\r\n",
        "    trans_path_full = R_Tpath[\"trans\"] + i +\"T\"\r\n",
        "    output = pd.merge(pd.read_csv('datasets/loan.csv'),pd.read_csv('datasets/borrower.csv'),how = 'outer')\r\n",
        "    y_train = \r\n",
        "  "
      ],
      "execution_count": null,
      "outputs": [
        {
          "output_type": "execute_result",
          "data": {
            "text/plain": [
              "['01',\n",
              " '02',\n",
              " '03',\n",
              " '04',\n",
              " '05',\n",
              " 'data_odometry_calib.zip',\n",
              " 'data_odometry_poses.zip',\n",
              " '00',\n",
              " 'Short_Kitti_00']"
            ]
          },
          "metadata": {
            "tags": []
          },
          "execution_count": 23
        }
      ]
    },
    {
      "cell_type": "code",
      "metadata": {
        "id": "yFCX1TB-_1Gp"
      },
      "source": [
        "os.listdir(\"/content/drive/MyDrive/VO/kitti_odo/Kitti_odometry_Dataset/00/image_0\")[0:5]"
      ],
      "execution_count": null,
      "outputs": []
    },
    {
      "cell_type": "code",
      "metadata": {
        "id": "WEvhDBIso_ai"
      },
      "source": [
        "#train_generator = train_datagen.flow_from_directory(\r\n",
        "     # train_dir,\r\n",
        "     #  target_size=(48,48),\r\n",
        "     #   batch_size=64,\r\n",
        "     #    color_mode=\"gray_framescale\",\r\n",
        "     #    class_mode='categorical')\r\n",
        "from keras.optimizers import Adam\r\n",
        "ResNet_model.compile(loss=tf.keras.losses.KLDivergence(),optimizer=Adam(lr=0.0001, decay=1e-6),metrics=['accuracy'])\r\n",
        "history=ResNet_model.fit(x_train,y_train,batch_size=32,epochs=10,verbose=1,validation_data=(x_test,y_test),callbacks=[check_point])\r\n",
        "\r\n",
        "#ResNet_model.save_weights('model.h5')\r\n",
        "#model_info = ResNet_model.fit_generator(\r\n",
        "#        train_generator,\r\n",
        "#        steps_per_epoch=28709 // 64,\r\n",
        "#        epochs=50,\r\n",
        "#        validation_data=validation_generator,\r\n",
        "#        validation_steps=7178 // 64)\r\n",
        "\r\n",
        "for image_to_rotate in os.listdir(path):\r\n",
        "        #do training\r\n",
        "#change this\r\n",
        "prediction = emotion_model.predict(cropped_img)"
      ],
      "execution_count": null,
      "outputs": []
    },
    {
      "cell_type": "markdown",
      "metadata": {
        "id": "4JNSNUzbG0zy"
      },
      "source": [
        "####Editing the test file(which is under PWCNET's repo) code and making it a module so that it can be integrated with ResNet in the final model "
      ]
    },
    {
      "cell_type": "code",
      "metadata": {
        "id": "Iir7H-8OgVUU"
      },
      "source": [
        "from tensorflow.python.framework import ops\r\n",
        "ops.reset_default_graph()\r\n",
        "from pwctest import Tester\r\n",
        "\r\n",
        "#args = {\"input_images\" = ['/content/Sintel/training/final/alley_1/frame_0004.png', '/content/Sintel/training/final/alley_1/frame_0005.png'], \"resume\" = '/gdrive/MyDrive/VO/colab_pwcnet/model/model_100.ckpt',\"time\" = False}\r\n",
        "args = {}\r\n",
        "args [\"input_images\"] = ['/content/Sintel/training/final/alley_1/frame_0004.png', '/content/Sintel/training/final/alley_1/frame_0005.png']\r\n",
        "args[\"resume\"] = '/content/drive/MyDrive/VO/colab_pwcnet/model/model_100.ckpt'\r\n",
        "args[\"time\"] = False\r\n",
        "Tester(args)"
      ],
      "execution_count": null,
      "outputs": []
    },
    {
      "cell_type": "code",
      "metadata": {
        "id": "r45Tx4uCDLDT"
      },
      "source": [
        "!python test_continuous.py -i /content/drive/MyDrive/VO/kitti_odo/Kitti_odometry_Dataset/00/image_0/* -r /content/drive/MyDrive/VO/colab_pwcnet/model/model_100.ckpt"
      ],
      "execution_count": null,
      "outputs": []
    },
    {
      "cell_type": "markdown",
      "metadata": {
        "id": "b-Rx9Y3ZEq-l"
      },
      "source": [
        "####Path to the optical flow images which were generated using PWCNET and Kitti's 00 image set"
      ]
    },
    {
      "cell_type": "code",
      "metadata": {
        "id": "7CEGfv_gjudr"
      },
      "source": [
        "/content/drive/MyDrive/VO/pwcnetzip/pwcnet_unzipped/content/pwcnet/test_figure/image_0/000000.png"
      ],
      "execution_count": null,
      "outputs": []
    },
    {
      "cell_type": "markdown",
      "metadata": {
        "id": "Xuo_M_FhHT0H"
      },
      "source": [
        "#TartanVO"
      ]
    },
    {
      "cell_type": "markdown",
      "metadata": {
        "id": "PaNX93HgGeDW"
      },
      "source": [
        "####code meant to work on tartanVO github repository"
      ]
    },
    {
      "cell_type": "code",
      "metadata": {
        "id": "BX37V4mDjTKt"
      },
      "source": [
        "!python vo_trajectory_from_folder.py  --model-name tartanvo_1914.pkl --kitti --batch-size 2 --worker-num 0 --test-dir data/KITTI_10/image_left --pose-file data/KITTI_10/pose_left.txt --save-flow"
      ],
      "execution_count": null,
      "outputs": []
    },
    {
      "cell_type": "markdown",
      "metadata": {
        "id": "hI_O0waAHLSo"
      },
      "source": [
        "####Meant for TartanVO"
      ]
    },
    {
      "cell_type": "code",
      "metadata": {
        "id": "siuNMxPCjO8_"
      },
      "source": [
        "!mkdir models\r\n",
        "!wget https://cmu.box.com/shared/static/t1a5u4x6dxohl89104dyrsiz42mvq2sz.pkl -O models/tartanvo_1914.pkl\r\n",
        "!git clone https://github.com/castacks/tartanvo.git\r\n",
        "!mkdir data\r\n",
        "!wget https://cmu.box.com/shared/static/nw3bi7x5vng2xy296ndxt19uozpk64jq.zip -O data/KITTI_10.zip\r\n",
        "!unzip -q data/KITTI_10.zip -d data/KITTI_10/\r\n",
        "!mkdir data\r\n",
        "!wget https://cmu.box.com/shared/static/1ctocidptdv1xev6pjxdj0b782mrstps.zip -O data/EuRoC_V102.zip\r\n",
        "!unzip -q data/EuRoC_V102.zip -d data/EuRoC_V102/"
      ],
      "execution_count": null,
      "outputs": []
    },
    {
      "cell_type": "markdown",
      "metadata": {
        "id": "CT9cr5Mr9yyf"
      },
      "source": [
        "#ROUGH WORK\r\n"
      ]
    },
    {
      "cell_type": "code",
      "metadata": {
        "colab": {
          "base_uri": "https://localhost:8080/",
          "height": 131
        },
        "id": "3tmERc4q9zIa",
        "outputId": "03cb4981-8054-4dcc-d9b3-c8d3eb9a6673"
      },
      "source": [
        "def srtextract(m):\r\n",
        "  \r\n",
        "def separate_translation_scaling_rotation(m):\r\n",
        "  m = m.clone\r\n",
        "  translation = m.values_at(12, 13, 14)\r\n",
        "  scaling = Array.new(3)\r\n",
        "  scaling[0] = m[15] * Math.sqrt(m[0]**2 + m[1]**2 + m[2]**2)\r\n",
        "  scaling[1] = m[15] * Math.sqrt(m[4]**2 + m[5]**2 + m[6]**2)\r\n",
        "  scaling[2] = m[15] * Math.sqrt(m[8]**2 + m[9]**2 + m[10]**2)\r\n",
        "  [0, 1, 2].each{ |i| m[i] /= scaling[0] } unless scaling[0] == 0.0\r\n",
        "  [4, 5, 6].each{ |i| m[i] /= scaling[1] } unless scaling[1] == 0.0\r\n",
        "  [8, 9,10].each{ |i| m[i] /= scaling[2] } unless scaling[2] == 0.0\r\n",
        "  m[15] = 1.0\r\n",
        "  tmp_z_axis = Geom::Vector3d.new(m[0], m[1], m[2]).cross(Geom::Vector3d.new(m[4], m[5], m[6]))\r\n",
        "  if tmp_z_axis.dot( Geom::Vector3d.new(m[8], m[9], m[10]) ) < 0\r\n",
        "    scaling[0] *= -1\r\n",
        "    m[0] = -m[0]\r\n",
        "    m[1] = -m[1]\r\n",
        "    m[2] = -m[2]\r\n",
        "  end\r\n",
        "  theta1 = Math.atan2(m[6], m[10])\r\n",
        "  c2 = Math.sqrt(m[0]**2 + m[1]**2)\r\n",
        "  theta2 = Math.atan2(-m[2], c2)\r\n",
        "  s1 = Math.sin(theta1)\r\n",
        "  c1 = Math.cos(theta1)\r\n",
        "  theta3 = Math.atan2(s1*m[8] - c1*m[4], c1*m[5] - s1*m[9])\r\n",
        "  rotation = [-theta1, -theta2, -theta3]\r\n",
        "  \r\n",
        "  return translation, scaling, rotation\r\n",
        "end"
      ],
      "execution_count": null,
      "outputs": [
        {
          "output_type": "error",
          "ename": "SyntaxError",
          "evalue": "ignored",
          "traceback": [
            "\u001b[0;36m  File \u001b[0;32m\"<ipython-input-3-59fb21c8ef51>\"\u001b[0;36m, line \u001b[0;32m8\u001b[0m\n\u001b[0;31m    [0, 1, 2].each{ |i| m[i] /= scaling[0] } unless scaling[0] == 0.0\u001b[0m\n\u001b[0m                  ^\u001b[0m\n\u001b[0;31mSyntaxError\u001b[0m\u001b[0;31m:\u001b[0m invalid syntax\n"
          ]
        }
      ]
    },
    {
      "cell_type": "code",
      "metadata": {
        "id": "m0wv_ZXd9_rc"
      },
      "source": [
        "import csv\r\n",
        "reader = csv.reader(open(\"/content/03.txt\"), delimiter=\" \")"
      ],
      "execution_count": null,
      "outputs": []
    },
    {
      "cell_type": "code",
      "metadata": {
        "colab": {
          "base_uri": "https://localhost:8080/"
        },
        "id": "4wtvuCEgNhtI",
        "outputId": "808cc8f1-a017-4db0-da0a-f9e322a11de7"
      },
      "source": [
        "import csv\r\n",
        "from numpy import array\r\n",
        "from numpy.linalg import norm\r\n",
        "reader = csv.reader(open(\"/content/10.txt\"), delimiter=\" \")\r\n",
        "\r\n",
        "line_count = 0\r\n",
        "with open('10R.csv', mode='w') as f:\r\n",
        "          fwriter = csv.writer(f, delimiter=',', quotechar='\"', quoting=csv.QUOTE_NONNUMERIC)\r\n",
        "          for row in reader:\r\n",
        "            line_count+=1\r\n",
        "            sx=norm([row[0],row[4],row[8]])\r\n",
        "            sy=norm([row[1],row[5],row[9]])\r\n",
        "            sz=norm([row[3],row[7],row[11]])\r\n",
        "            zero=float(row[0])/sx\r\n",
        "            one=float(row[1])/sx\r\n",
        "            two=float(row[2])/sx\r\n",
        "            four=float(row[4])/sy\r\n",
        "            five=float(row[5])/sy\r\n",
        "            six=float(row[6])/sy\r\n",
        "            eight=float(row[8])/sz\r\n",
        "            nine=float(row[9])/sz\r\n",
        "            ten=float(row[10])/sz\r\n",
        "            fwriter.writerow([f'{zero}',f'{one}',f'{two}',f'{four}',f'{five}',f'{six}',f'{eight}',f'{nine}',f'{ten}'])\r\n",
        "print(f'Processed {line_count} lines.')    "
      ],
      "execution_count": null,
      "outputs": [
        {
          "output_type": "stream",
          "text": [
            "Processed 1201 lines.\n"
          ],
          "name": "stdout"
        }
      ]
    },
    {
      "cell_type": "code",
      "metadata": {
        "colab": {
          "base_uri": "https://localhost:8080/",
          "height": 398
        },
        "id": "v2JUgudHNrhV",
        "outputId": "c2b590e6-0755-40a9-d8e2-3909e720906c"
      },
      "source": [
        ""
      ],
      "execution_count": null,
      "outputs": [
        {
          "output_type": "error",
          "ename": "ValueError",
          "evalue": "ignored",
          "traceback": [
            "\u001b[0;31m---------------------------------------------------------------------------\u001b[0m",
            "\u001b[0;31mValueError\u001b[0m                                Traceback (most recent call last)",
            "\u001b[0;32m<ipython-input-42-762fbc70a883>\u001b[0m in \u001b[0;36m<module>\u001b[0;34m()\u001b[0m\n\u001b[1;32m      1\u001b[0m \u001b[0;32mimport\u001b[0m \u001b[0mpandas\u001b[0m \u001b[0;32mas\u001b[0m \u001b[0mpd\u001b[0m\u001b[0;34m\u001b[0m\u001b[0;34m\u001b[0m\u001b[0m\n\u001b[1;32m      2\u001b[0m \u001b[0mdf\u001b[0m \u001b[0;34m=\u001b[0m \u001b[0mpd\u001b[0m\u001b[0;34m.\u001b[0m\u001b[0mread_csv\u001b[0m \u001b[0;34m(\u001b[0m\u001b[0;34mr'/content/00.txt'\u001b[0m\u001b[0;34m)\u001b[0m\u001b[0;34m\u001b[0m\u001b[0;34m\u001b[0m\u001b[0m\n\u001b[0;32m----> 3\u001b[0;31m \u001b[0mdf\u001b[0m\u001b[0;34m.\u001b[0m\u001b[0mcolumns\u001b[0m\u001b[0;34m=\u001b[0m\u001b[0;34m[\u001b[0m\u001b[0;34m'zero'\u001b[0m\u001b[0;34m,\u001b[0m\u001b[0;34m'one'\u001b[0m\u001b[0;34m,\u001b[0m\u001b[0;34m'two'\u001b[0m\u001b[0;34m,\u001b[0m\u001b[0;34m'three'\u001b[0m\u001b[0;34m,\u001b[0m\u001b[0;34m'four'\u001b[0m\u001b[0;34m,\u001b[0m\u001b[0;34m'five'\u001b[0m\u001b[0;34m,\u001b[0m\u001b[0;34m'six'\u001b[0m\u001b[0;34m,\u001b[0m\u001b[0;34m'seven'\u001b[0m\u001b[0;34m,\u001b[0m\u001b[0;34m'eight'\u001b[0m\u001b[0;34m,\u001b[0m\u001b[0;34m'nine'\u001b[0m\u001b[0;34m,\u001b[0m\u001b[0;34m'ten'\u001b[0m\u001b[0;34m,\u001b[0m\u001b[0;34m'eleven'\u001b[0m\u001b[0;34m]\u001b[0m\u001b[0;34m\u001b[0m\u001b[0;34m\u001b[0m\u001b[0m\n\u001b[0m\u001b[1;32m      4\u001b[0m \u001b[0mprint\u001b[0m\u001b[0;34m(\u001b[0m\u001b[0mdf\u001b[0m\u001b[0;34m.\u001b[0m\u001b[0minfo\u001b[0m\u001b[0;34m(\u001b[0m\u001b[0;34m)\u001b[0m\u001b[0;34m)\u001b[0m\u001b[0;34m\u001b[0m\u001b[0;34m\u001b[0m\u001b[0m\n",
            "\u001b[0;32m/usr/local/lib/python3.7/dist-packages/pandas/core/generic.py\u001b[0m in \u001b[0;36m__setattr__\u001b[0;34m(self, name, value)\u001b[0m\n\u001b[1;32m   5152\u001b[0m         \u001b[0;32mtry\u001b[0m\u001b[0;34m:\u001b[0m\u001b[0;34m\u001b[0m\u001b[0;34m\u001b[0m\u001b[0m\n\u001b[1;32m   5153\u001b[0m             \u001b[0mobject\u001b[0m\u001b[0;34m.\u001b[0m\u001b[0m__getattribute__\u001b[0m\u001b[0;34m(\u001b[0m\u001b[0mself\u001b[0m\u001b[0;34m,\u001b[0m \u001b[0mname\u001b[0m\u001b[0;34m)\u001b[0m\u001b[0;34m\u001b[0m\u001b[0;34m\u001b[0m\u001b[0m\n\u001b[0;32m-> 5154\u001b[0;31m             \u001b[0;32mreturn\u001b[0m \u001b[0mobject\u001b[0m\u001b[0;34m.\u001b[0m\u001b[0m__setattr__\u001b[0m\u001b[0;34m(\u001b[0m\u001b[0mself\u001b[0m\u001b[0;34m,\u001b[0m \u001b[0mname\u001b[0m\u001b[0;34m,\u001b[0m \u001b[0mvalue\u001b[0m\u001b[0;34m)\u001b[0m\u001b[0;34m\u001b[0m\u001b[0;34m\u001b[0m\u001b[0m\n\u001b[0m\u001b[1;32m   5155\u001b[0m         \u001b[0;32mexcept\u001b[0m \u001b[0mAttributeError\u001b[0m\u001b[0;34m:\u001b[0m\u001b[0;34m\u001b[0m\u001b[0;34m\u001b[0m\u001b[0m\n\u001b[1;32m   5156\u001b[0m             \u001b[0;32mpass\u001b[0m\u001b[0;34m\u001b[0m\u001b[0;34m\u001b[0m\u001b[0m\n",
            "\u001b[0;32mpandas/_libs/properties.pyx\u001b[0m in \u001b[0;36mpandas._libs.properties.AxisProperty.__set__\u001b[0;34m()\u001b[0m\n",
            "\u001b[0;32m/usr/local/lib/python3.7/dist-packages/pandas/core/generic.py\u001b[0m in \u001b[0;36m_set_axis\u001b[0;34m(self, axis, labels)\u001b[0m\n\u001b[1;32m    562\u001b[0m     \u001b[0;32mdef\u001b[0m \u001b[0m_set_axis\u001b[0m\u001b[0;34m(\u001b[0m\u001b[0mself\u001b[0m\u001b[0;34m,\u001b[0m \u001b[0maxis\u001b[0m\u001b[0;34m:\u001b[0m \u001b[0mint\u001b[0m\u001b[0;34m,\u001b[0m \u001b[0mlabels\u001b[0m\u001b[0;34m:\u001b[0m \u001b[0mIndex\u001b[0m\u001b[0;34m)\u001b[0m \u001b[0;34m->\u001b[0m \u001b[0;32mNone\u001b[0m\u001b[0;34m:\u001b[0m\u001b[0;34m\u001b[0m\u001b[0;34m\u001b[0m\u001b[0m\n\u001b[1;32m    563\u001b[0m         \u001b[0mlabels\u001b[0m \u001b[0;34m=\u001b[0m \u001b[0mensure_index\u001b[0m\u001b[0;34m(\u001b[0m\u001b[0mlabels\u001b[0m\u001b[0;34m)\u001b[0m\u001b[0;34m\u001b[0m\u001b[0;34m\u001b[0m\u001b[0m\n\u001b[0;32m--> 564\u001b[0;31m         \u001b[0mself\u001b[0m\u001b[0;34m.\u001b[0m\u001b[0m_mgr\u001b[0m\u001b[0;34m.\u001b[0m\u001b[0mset_axis\u001b[0m\u001b[0;34m(\u001b[0m\u001b[0maxis\u001b[0m\u001b[0;34m,\u001b[0m \u001b[0mlabels\u001b[0m\u001b[0;34m)\u001b[0m\u001b[0;34m\u001b[0m\u001b[0;34m\u001b[0m\u001b[0m\n\u001b[0m\u001b[1;32m    565\u001b[0m         \u001b[0mself\u001b[0m\u001b[0;34m.\u001b[0m\u001b[0m_clear_item_cache\u001b[0m\u001b[0;34m(\u001b[0m\u001b[0;34m)\u001b[0m\u001b[0;34m\u001b[0m\u001b[0;34m\u001b[0m\u001b[0m\n\u001b[1;32m    566\u001b[0m \u001b[0;34m\u001b[0m\u001b[0m\n",
            "\u001b[0;32m/usr/local/lib/python3.7/dist-packages/pandas/core/internals/managers.py\u001b[0m in \u001b[0;36mset_axis\u001b[0;34m(self, axis, new_labels)\u001b[0m\n\u001b[1;32m    225\u001b[0m         \u001b[0;32mif\u001b[0m \u001b[0mnew_len\u001b[0m \u001b[0;34m!=\u001b[0m \u001b[0mold_len\u001b[0m\u001b[0;34m:\u001b[0m\u001b[0;34m\u001b[0m\u001b[0;34m\u001b[0m\u001b[0m\n\u001b[1;32m    226\u001b[0m             raise ValueError(\n\u001b[0;32m--> 227\u001b[0;31m                 \u001b[0;34mf\"Length mismatch: Expected axis has {old_len} elements, new \"\u001b[0m\u001b[0;34m\u001b[0m\u001b[0;34m\u001b[0m\u001b[0m\n\u001b[0m\u001b[1;32m    228\u001b[0m                 \u001b[0;34mf\"values have {new_len} elements\"\u001b[0m\u001b[0;34m\u001b[0m\u001b[0;34m\u001b[0m\u001b[0m\n\u001b[1;32m    229\u001b[0m             )\n",
            "\u001b[0;31mValueError\u001b[0m: Length mismatch: Expected axis has 1 elements, new values have 12 elements"
          ]
        }
      ]
    },
    {
      "cell_type": "code",
      "metadata": {
        "id": "lwugw1t7WmAn"
      },
      "source": [
        ""
      ],
      "execution_count": null,
      "outputs": []
    }
  ]
}